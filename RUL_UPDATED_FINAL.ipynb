{
  "cells": [
    {
      "cell_type": "markdown",
      "metadata": {
        "id": "view-in-github",
        "colab_type": "text"
      },
      "source": [
        "<a href=\"https://colab.research.google.com/github/Digvijayapatro/FSM-INT-2023/blob/main/RUL_UPDATED_FINAL.ipynb\" target=\"_parent\"><img src=\"https://colab.research.google.com/assets/colab-badge.svg\" alt=\"Open In Colab\"/></a>"
      ]
    },
    {
      "cell_type": "code",
      "execution_count": null,
      "metadata": {
        "id": "RXkKI60hdh0e"
      },
      "outputs": [],
      "source": [
        "import os\n",
        "import pandas as pd\n",
        "import numpy as np\n",
        "from sklearn.model_selection import train_test_split, RandomizedSearchCV\n",
        "from sklearn.ensemble import RandomForestRegressor\n",
        "from sklearn.metrics import mean_absolute_error, mean_squared_error, r2_score"
      ]
    },
    {
      "cell_type": "code",
      "execution_count": null,
      "metadata": {
        "id": "uPZFvBXTc2qt"
      },
      "outputs": [],
      "source": [
        "# Step 1: Load the data from all CSV files in the folders\n",
        "data_folders = ['b1_1', 'b1_2', 'b2_1', 'b2_2', 'b3_1', 'b3_2']\n",
        "all_data = []\n",
        "\n",
        "for folder in data_folders:\n",
        "    folder_path = os.path.join('/content/drive/MyDrive/bearing/learning', folder)\n",
        "    csv_files = os.listdir(folder_path)\n",
        "\n",
        "    for csv_file in csv_files:\n",
        "        csv_path = os.path.join(folder_path, csv_file)\n",
        "        df = pd.read_csv(csv_path, header=None)  # Set header=None since we have no feature names\n",
        "        all_data.append(df)"
      ]
    },
    {
      "cell_type": "code",
      "execution_count": null,
      "metadata": {
        "id": "k-MmpYsYc4VW"
      },
      "outputs": [],
      "source": [
        "# Step 2: Concatenate the data into a single DataFrame\n",
        "full_data = pd.concat(all_data, ignore_index=True)"
      ]
    },
    {
      "cell_type": "code",
      "execution_count": null,
      "metadata": {
        "id": "r3471wphc9pX"
      },
      "outputs": [],
      "source": [
        "# Step 3: Preprocess the data\n",
        "# Assuming your target column is in the last column (column with index -1)\n",
        "target_column_idx = full_data.shape[1] - 1\n",
        "\n",
        "# Separate the features and target\n",
        "X = full_data.drop(columns=[target_column_idx])\n",
        "y = full_data.iloc[:, target_column_idx]\n",
        "\n",
        "# If you have missing values in the features, you can handle them using imputation\n",
        "# For example, fill missing values with the mean of each feature\n",
        "X.fillna(X.mean(), inplace=True)\n",
        "\n",
        "# Standardize or normalize the features using StandardScaler\n",
        "from sklearn.preprocessing import StandardScaler\n",
        "scaler = StandardScaler()\n",
        "X_scaled = scaler.fit_transform(X)"
      ]
    },
    {
      "cell_type": "code",
      "execution_count": null,
      "metadata": {
        "id": "GFaVx9FGdELy"
      },
      "outputs": [],
      "source": [
        "# Step 4: Train a machine learning model to predict the remaining useful life\n",
        "# Split the data into training and testing sets\n",
        "X_train, X_test, y_train, y_test = train_test_split(X_scaled, y, test_size=0.2, random_state=42)"
      ]
    },
    {
      "cell_type": "code",
      "execution_count": null,
      "metadata": {
        "id": "iegs2aQ8dMG-"
      },
      "outputs": [],
      "source": [
        "# Step 5: Hyperparameter Tuning\n",
        "# Initialize a regression model (e.g., RandomForestRegressor)\n",
        "from sklearn.model_selection import GridSearchCV\n",
        "\n",
        "# Initialize a regression model (e.g., RandomForestRegressor)\n",
        "model = RandomForestRegressor(random_state=42)\n",
        "\n",
        "# Define the hyperparameter search space\n",
        "param_grid = {\n",
        "    'n_estimators': [50, 100, 150, 200],\n",
        "    'max_depth': [None, 5, 10, 15, 20],\n",
        "    'min_samples_split': [2, 5, 10],\n",
        "    'min_samples_leaf': [1, 2, 4],\n",
        "    'bootstrap': [True, False],\n",
        "}\n",
        "\n",
        "# Perform Grid Search with Randomized Parameter Optimization\n",
        "grid_search = GridSearchCV(\n",
        "    estimator=model,\n",
        "    param_grid=param_grid,\n",
        "    cv=5,\n",
        "    scoring='r2',\n",
        "    n_jobs=-1,\n",
        ")\n",
        "\n",
        "# Fit the Grid Search on the training data\n",
        "grid_search.fit(X_train, y_train)\n",
        "\n",
        "# Get the best model and its hyperparameters\n",
        "best_model = grid_search.best_estimator_\n",
        "best_params = grid_search.best_params_\n",
        "\n",
        "# Print the best hyperparameters\n",
        "print(\"Best Hyperparameters:\")\n",
        "print(best_params)\n"
      ]
    },
    {
      "cell_type": "code",
      "execution_count": null,
      "metadata": {
        "id": "1AiA17USQvjk"
      },
      "outputs": [],
      "source": [
        "  # Step 6: Evaluate the model\n",
        "\n",
        "# Calculate the Mean Absolute Error (MAE)\n",
        "mae_best = mean_absolute_error(y_test, y_pred_best)\n",
        "print(f\"Mean Absolute Error (MAE): {mae_best}\")\n",
        "\n",
        "# Calculate the Mean Squared Error (MSE)\n",
        "mse_best = mean_squared_error(y_test, y_pred_best)\n",
        "print(f\"Mean Squared Error (MSE): {mse_best}\")\n",
        "\n",
        "# Calculate the Root Mean Squared Error (RMSE)\n",
        "rmse_best = np.sqrt(mse_best)\n",
        "print(f\"Root Mean Squared Error (RMSE): {rmse_best}\")\n",
        "\n",
        "# Calculate R-squared (R²)\n",
        "r2_best = r2_score(y_test, y_pred_best)\n",
        "print(f\"R-squared (R²): {r2_best}\")\n",
        "\n"
      ]
    },
    {
      "cell_type": "code",
      "execution_count": null,
      "metadata": {
        "id": "BQt8kThlmpje"
      },
      "outputs": [],
      "source": [
        "import matplotlib.pyplot as plt\n",
        "import seaborn as sns\n",
        "\n",
        "# Step 7: Visualization of Model Performance\n",
        "# Create a scatter plot of actual vs. predicted values\n",
        "plt.figure(figsize=(8, 6))\n",
        "plt.scatter(y_test, y_pred_best, alpha=0.6)\n",
        "plt.xlabel('Actual Remaining Useful Life')\n",
        "plt.ylabel('Predicted Remaining Useful Life')\n",
        "plt.title('Actual vs. Predicted Values')\n",
        "plt.show()\n",
        "\n",
        "# Create a residual plot\n",
        "residuals = y_test - y_pred_best\n",
        "plt.figure(figsize=(8, 6))\n",
        "sns.histplot(residuals, kde=True)\n",
        "plt.xlabel('Residuals')\n",
        "plt.ylabel('Density')\n",
        "plt.title('Residual Plot')\n",
        "plt.show()\n"
      ]
    },
    {
      "cell_type": "code",
      "execution_count": null,
      "metadata": {
        "id": "HRHwbRK0nLWk"
      },
      "outputs": [],
      "source": [
        "import matplotlib.pyplot as plt\n",
        "\n",
        "# Create a line graph of actual vs. predicted values\n",
        "plt.figure(figsize=(10, 6))\n",
        "plt.plot(range(len(y_test)), y_test, label='Actual', marker='o')\n",
        "plt.plot(range(len(y_test)), y_pred_best, label='Predicted', marker='o')\n",
        "plt.xlabel('Data Point Index')\n",
        "plt.ylabel('Remaining Useful Life')\n",
        "plt.title('Actual vs. Predicted Values')\n",
        "plt.legend()\n",
        "plt.grid(True)\n",
        "plt.show()\n"
      ]
    },
    {
      "cell_type": "code",
      "execution_count": null,
      "metadata": {
        "id": "4F1nZsfNnaIN"
      },
      "outputs": [],
      "source": [
        "import matplotlib.pyplot as plt\n",
        "\n",
        "# Create a histogram to visualize the distribution of actual and predicted values\n",
        "plt.figure(figsize=(10, 6))\n",
        "plt.hist(y_test, bins=20, alpha=0.6, label='Actual', color='blue')\n",
        "plt.hist(y_pred_best, bins=20, alpha=0.6, label='Predicted', color='orange')\n",
        "plt.xlabel('Remaining Useful Life')\n",
        "plt.ylabel('Frequency')\n",
        "plt.title('Distribution of Actual and Predicted Values')\n",
        "plt.legend()\n",
        "plt.grid(True)\n",
        "plt.show()\n"
      ]
    },
    {
      "cell_type": "code",
      "execution_count": null,
      "metadata": {
        "id": "x2qSQ1CKnx8D"
      },
      "outputs": [],
      "source": [
        "import matplotlib.pyplot as plt\n",
        "\n",
        "residuals = y_test - y_pred_best\n",
        "plt.scatter(y_pred_best, residuals)\n",
        "plt.axhline(y=0, color='r', linestyle='dashed')\n",
        "plt.xlabel('Predicted Values')\n",
        "plt.ylabel('Residuals')\n",
        "plt.title('Residual Plot')\n",
        "plt.show()\n"
      ]
    },
    {
      "cell_type": "code",
      "source": [
        "import numpy as np\n",
        "import matplotlib.pyplot as plt\n",
        "\n",
        "# Example evaluation results for two models (MAE, MSE, RMSE, R-squared)\n",
        "model_names = [\"Model A\", \"Model B\"]\n",
        "mae_scores = [2.5, 3.0]\n",
        "mse_scores = [10.0, 12.0]\n",
        "rmse_scores = [np.sqrt(10.0), np.sqrt(12.0)]\n",
        "r2_scores = [0.8, 0.75]\n",
        "\n",
        "# Combine all metric scores into a matrix\n",
        "metric_scores = np.array([mae_scores, mse_scores, rmse_scores, r2_scores])\n",
        "\n",
        "# Define the metric names for the columns\n",
        "metric_names = [\"MAE\", \"MSE\", \"RMSE\", \"R-squared\"]\n",
        "\n",
        "# Plotting the matrix as a heatmap\n",
        "fig, ax = plt.subplots(figsize=(8, 6))\n",
        "heatmap = ax.imshow(metric_scores, cmap='viridis')\n",
        "\n",
        "# Show all ticks and label them with the respective list entries\n",
        "ax.set_xticks(np.arange(len(model_names)))\n",
        "ax.set_yticks(np.arange(len(metric_names)))\n",
        "ax.set_xticklabels(model_names)\n",
        "ax.set_yticklabels(metric_names)\n",
        "\n",
        "# Rotate the x-axis tick labels for better readability\n",
        "plt.setp(ax.get_xticklabels(), rotation=45, ha=\"right\", rotation_mode=\"anchor\")\n",
        "\n",
        "# Loop over data dimensions and create text annotations (metric values) in the heatmap cells\n",
        "for i in range(len(metric_names)):\n",
        "    for j in range(len(model_names)):\n",
        "        text = ax.text(j, i, f'{metric_scores[i, j]:.2f}', ha=\"center\", va=\"center\", color=\"w\")\n",
        "\n",
        "ax.set_title(\"Model Evaluation Metrics\")\n",
        "plt.xlabel(\"Model\")\n",
        "plt.ylabel(\"Metric\")\n",
        "plt.colorbar(heatmap, shrink=0.7)\n",
        "plt.tight_layout()\n",
        "plt.show()\n"
      ],
      "metadata": {
        "id": "XQ6CQQ01mvXa"
      },
      "execution_count": null,
      "outputs": []
    }
  ],
  "metadata": {
    "colab": {
      "provenance": [],
      "mount_file_id": "1G45-TPXoDK1f7uGjgDsHWr8WNvqAHiCK",
      "authorship_tag": "ABX9TyO2IeChxHbxvU/yGn1g044n",
      "include_colab_link": true
    },
    "kernelspec": {
      "display_name": "Python 3",
      "name": "python3"
    },
    "language_info": {
      "name": "python"
    }
  },
  "nbformat": 4,
  "nbformat_minor": 0
}